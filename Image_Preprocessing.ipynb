{
 "cells": [
  {
   "cell_type": "code",
   "execution_count": 1,
   "id": "ef5b515f",
   "metadata": {},
   "outputs": [],
   "source": [
    "import matplotlib.pyplot as plt\n",
    "import numpy as np\n",
    "import pandas as pd\n",
    "import seaborn as sns\n",
    "import os\n",
    "import cv2\n",
    "import torch\n",
    "from PIL import Image\n",
    "import torch.nn as nn\n",
    "import torchvision\n",
    "from torchvision import datasets, transforms\n",
    "from torch.utils.data import DataLoader"
   ]
  },
  {
   "cell_type": "code",
   "execution_count": 2,
   "id": "70544b94",
   "metadata": {},
   "outputs": [],
   "source": [
    "transform_train = transforms.Compose([\n",
    "    transforms.Resize((32, 32)),  \n",
    "    transforms.RandomHorizontalFlip(),\n",
    "    transforms.RandomRotation(10),\n",
    "    transforms.ToTensor(),\n",
    "])\n",
    "\n",
    "transform_test = transforms.Compose([\n",
    "    transforms.Resize((32, 32)),\n",
    "    transforms.ToTensor(),\n",
    "])"
   ]
  },
  {
   "cell_type": "code",
   "execution_count": 3,
   "id": "e3752bb7",
   "metadata": {},
   "outputs": [],
   "source": [
    "train_data = datasets.ImageFolder(root='Dataset/train', transform=transform_train)\n",
    "test_data = datasets.ImageFolder(root='Dataset/test', transform=transform_test)\n"
   ]
  },
  {
   "cell_type": "code",
   "execution_count": null,
   "id": "18ff1bf9",
   "metadata": {},
   "outputs": [],
   "source": [
    "def plot_class_distribution(data, dataset_type, ax):\n",
    "    class_distribution = {}\n",
    "    for _, label in data:\n",
    "        class_name = data.classes[label]\n",
    "        if class_name in class_distribution:\n",
    "            class_distribution[class_name] += 1\n",
    "        else:\n",
    "            class_distribution[class_name] = 1\n",
    "    \n",
    "    ax.bar(class_distribution.keys(), class_distribution.values(), color='orange')\n",
    "    ax.set_title(f\"{dataset_type} Dataset Class Distribution\")\n",
    "    ax.set_xlabel(\"Class\")\n",
    "    ax.set_ylabel(\"Number of Instances\")\n",
    "    ax.tick_params(axis='x', rotation=45)  # Rotate x-axis labels for better readability\n",
    "\n",
    "fig, axs = plt.subplots(1, 2, figsize=(16, 6))\n",
    "\n",
    "# Display class distribution for training dataset\n",
    "plot_class_distribution(train_data, \"Training\", axs[0])\n",
    "\n",
    "# Display class distribution for test dataset\n",
    "plot_class_distribution(test_data, \"Test\", axs[1])\n",
    "\n",
    "plt.tight_layout()\n",
    "plt.show()"
   ]
  },
  {
   "cell_type": "markdown",
   "id": "41b6efda",
   "metadata": {},
   "source": [
    "# Sample Images"
   ]
  },
  {
   "cell_type": "code",
   "execution_count": null,
   "id": "37946624",
   "metadata": {},
   "outputs": [],
   "source": [
    "from PIL import Image\n",
    "import  os\n",
    "import matplotlib.pyplot as plt\n",
    "from scipy.ndimage import gaussian_filter"
   ]
  },
  {
   "cell_type": "code",
   "execution_count": null,
   "id": "8ea643c8",
   "metadata": {},
   "outputs": [],
   "source": [
    "folder_path = \"Dataset/Sample\"\n",
    "\n",
    "# Get list of image files in the folder\n",
    "image_files = [f for f in os.listdir(folder_path) if os.path.isfile(os.path.join(folder_path, f))]\n",
    "# print(image_files)\n",
    "\n",
    "# Set up subplots\n",
    "num_images = len(image_files)\n",
    "num_cols = 5  # Change this value according to your preference\n",
    "num_rows = (num_images + num_cols - 1) // num_cols\n",
    "\n",
    "fig, axes = plt.subplots(num_rows, num_cols, figsize=(10, 10))\n",
    "\n",
    "# Iterate through images and display them\n",
    "for i, image_file in enumerate(image_files):\n",
    "    row = i // num_cols\n",
    "    col = i % num_cols\n",
    "    img_path = os.path.join(folder_path, image_file)\n",
    "#     print(img_path)\n",
    "    img = Image.open(img_path)\n",
    "    axes[row, col].imshow(img)\n",
    "    axes[row, col].axis('off')    \n",
    "    if row == 0:\n",
    "        axes[row, col].set_title(\"Real\")\n",
    "    else:\n",
    "        axes[row, col].set_title(\"Fake\")\n",
    "\n",
    "# Adjust layout\n",
    "plt.tight_layout()\n",
    "plt.show()"
   ]
  },
  {
   "cell_type": "markdown",
   "id": "9424822e",
   "metadata": {},
   "source": [
    "## Gaussion Blur"
   ]
  },
  {
   "cell_type": "markdown",
   "id": "b74cb869",
   "metadata": {},
   "source": [
    "Gaussian blur is a widely utilized technique in image classification tasks due to its ability to reduce noise and emphasize important features. When applied to images, Gaussian blur smoothens out fine details by convolving the image with a Gaussian kernel, essentially averaging nearby pixels' values. This process helps in reducing the impact of high-frequency noise, making the image cleaner and more uniform."
   ]
  },
  {
   "cell_type": "code",
   "execution_count": null,
   "id": "a419ddd0",
   "metadata": {},
   "outputs": [],
   "source": [
    "fig, axes = plt.subplots(num_rows, num_cols, figsize=(10, 10))\n",
    "\n",
    "# Iterate through images, apply Gaussian blur, and display them\n",
    "for i, image_file in enumerate(image_files):\n",
    "    row = i // num_cols\n",
    "    col = i % num_cols\n",
    "    img_path = os.path.join(folder_path, image_file)\n",
    "    img = cv2.imread(img_path)\n",
    "    # Apply Gaussian blur\n",
    "    blurred_img = cv2.GaussianBlur(img, (5, 5), 0)  # You can adjust the kernel size (5, 5) and sigma (0) as needed\n",
    "    axes[row, col].imshow(cv2.cvtColor(blurred_img, cv2.COLOR_BGR2RGB))\n",
    "    axes[row, col].axis('off')\n",
    "    # Set title for the first row\n",
    "    if row == 0:\n",
    "        axes[row, col].set_title(\"Real\")\n",
    "    else:\n",
    "        axes[row, col].set_title(\"Fake\")\n",
    "\n",
    "# Adjust layout\n",
    "plt.tight_layout()\n",
    "plt.show()"
   ]
  },
  {
   "cell_type": "code",
   "execution_count": null,
   "id": "bd4026c2",
   "metadata": {},
   "outputs": [],
   "source": [
    "folder_path = \"Dataset/processing_images\"\n",
    "\n",
    "image_files = [f for f in os.listdir(folder_path) if os.path.isfile(os.path.join(folder_path, f))]\n",
    "\n",
    "img_path1 = os.path.join(folder_path, image_files[0])\n",
    "Real_image = Image.open(img_path1)\n",
    "Real_image_np = np.array(Real_image)\n",
    "\n",
    "# Load the second image\n",
    "img_path2 = os.path.join(folder_path, image_files[1])\n",
    "Fake_image = Image.open(img_path2)\n",
    "Fake_image_np = np.array(Fake_image)\n",
    "# Set up subplots for 1 row and 2 columns\n",
    "fig, axes = plt.subplots(1, 2, figsize=(8, 4))\n",
    "\n",
    "# Plot the first image\n",
    "axes[0].imshow(img1)\n",
    "axes[0].axis('off')\n",
    "axes[0].set_title(\"REAL Image\")\n",
    "\n",
    "# Plot the second image\n",
    "axes[1].imshow(img2)\n",
    "axes[1].axis('off')\n",
    "axes[1].set_title(\"FAKE Image\")\n",
    "\n",
    "# Adjust layout\n",
    "plt.tight_layout()\n",
    "plt.show()\n"
   ]
  },
  {
   "cell_type": "markdown",
   "id": "c69e908e",
   "metadata": {},
   "source": [
    "## Image Erosion"
   ]
  },
  {
   "cell_type": "markdown",
   "id": "624686e8",
   "metadata": {},
   "source": [
    "Erosion is a process that shrinks or erodes the boundaries of foreground objects in a binary image. It works by sliding a structuring element (also called a kernel or mask) over the image and determining the minimum pixel value within the region covered by the kernel. If the center pixel of the kernel matches the foreground pixel in the image, it remains unchanged; otherwise, it is set to the background value (typically zero)"
   ]
  },
  {
   "cell_type": "code",
   "execution_count": null,
   "id": "b58b8c05",
   "metadata": {},
   "outputs": [],
   "source": [
    "kernel = np.ones((5, 5), np.uint8)\n",
    "eroded_real = cv2.erode(Real_image_np, kernel, iterations=1)\n",
    "eroded_fake = cv2.erode(Fake_image_np, kernel, iterations=1)\n",
    "\n",
    "# Display eroded images\n",
    "fig, axes = plt.subplots(1, 2, figsize=(8, 4))\n",
    "\n",
    "axes[0].imshow(eroded_real, cmap='gray')\n",
    "axes[0].axis('off')\n",
    "axes[0].set_title(\"Eroded REAL Image\")\n",
    "\n",
    "axes[1].imshow(eroded_fake, cmap='gray')\n",
    "axes[1].axis('off')\n",
    "axes[1].set_title(\"Eroded FAKE Image\")\n",
    "\n",
    "# Adjust layout\n",
    "plt.tight_layout()\n",
    "plt.show()"
   ]
  },
  {
   "cell_type": "markdown",
   "id": "fc4b9a7a",
   "metadata": {},
   "source": [
    "## Image Dilation"
   ]
  },
  {
   "cell_type": "markdown",
   "id": "36316065",
   "metadata": {},
   "source": [
    "Dilation, on the other hand, expands or dilates the boundaries of foreground objects in a binary image. It involves sliding a structuring element over the image and determining the maximum pixel value within the region covered by the kernel. If at least one pixel under the kernel is foreground (non-zero), the center pixel of the kernel in the output image is set to foreground as well. Dilation increases the size of objects and fills in small gaps or holes within them"
   ]
  },
  {
   "cell_type": "code",
   "execution_count": null,
   "id": "70286eb2",
   "metadata": {},
   "outputs": [],
   "source": [
    "kernel = np.ones((5, 5), np.uint8)\n",
    "dilated_real = cv2.dilate(Real_image_np, kernel, iterations=1)\n",
    "dilated_fake = cv2.dilate(Fake_image_np, kernel, iterations=1)\n",
    "\n",
    "# Display dilated images\n",
    "fig, axes = plt.subplots(1, 2, figsize=(8, 4))\n",
    "\n",
    "axes[0].imshow(dilated_real, cmap='gray')\n",
    "axes[0].axis('off')\n",
    "axes[0].set_title(\"Dilated REAL Image\")\n",
    "\n",
    "axes[1].imshow(dilated_fake, cmap='gray')\n",
    "axes[1].axis('off')\n",
    "axes[1].set_title(\"Dilated FAKE Image\")\n",
    "\n",
    "# Adjust layout\n",
    "plt.tight_layout()\n",
    "plt.show()"
   ]
  },
  {
   "cell_type": "markdown",
   "id": "26bcc40e",
   "metadata": {},
   "source": [
    "# Edge Detection (Sobel and Canny Edges)"
   ]
  },
  {
   "cell_type": "markdown",
   "id": "09c60560",
   "metadata": {},
   "source": [
    "Sobel edges are valuable in image classification because they highlight significant changes in intensity, effectively capturing the outlines and boundaries of objects within an image. By emphasizing these edges, Sobel edge detection helps in extracting essential features for classification, such as object shapes and structures. This makes it particularly useful in scenarios where precise delineation of object boundaries is crucial, such as in medical imaging or industrial quality control."
   ]
  },
  {
   "cell_type": "markdown",
   "id": "2ca5ab17",
   "metadata": {},
   "source": [
    "Canny edges excel in identifying edges while minimizing noise and false positives. This precision is essential in image classification tasks where accurate feature extraction is paramount. By employing Canny edge detection, classifiers can focus on relevant features while reducing the influence of irrelevant details and noise in the image. This enhances the robustness and accuracy of the classification process, especially in complex scenes or noisy environments."
   ]
  },
  {
   "cell_type": "code",
   "execution_count": null,
   "id": "2fc92eef",
   "metadata": {},
   "outputs": [],
   "source": [
    "import cv2"
   ]
  },
  {
   "cell_type": "code",
   "execution_count": null,
   "id": "71fcf941",
   "metadata": {},
   "outputs": [],
   "source": [
    "gray_image = cv2.cvtColor(Real_image_np, cv2.COLOR_BGR2GRAY)\n",
    "\n",
    "# Apply Sobel operator to get gradients\n",
    "sobel_x = cv2.Sobel(gray_image, cv2.CV_64F, 1, 0, ksize=5)\n",
    "sobel_y = cv2.Sobel(gray_image, cv2.CV_64F, 0, 1, ksize=5)\n",
    "\n",
    "# Calculate the magnitude of the gradient\n",
    "magnitude_gradient = cv2.magnitude(sobel_x, sobel_y)\n",
    "\n",
    "# Apply edge detection\n",
    "edges = cv2.Canny(gray_image, 100, 200)\n",
    "\n",
    "# Display original image and edges\n",
    "fig, axs = plt.subplots(1, 3, figsize=(21, 7))\n",
    "\n",
    "# Original image\n",
    "axs[0].imshow(cv2.cvtColor(Real_image_np, cv2.COLOR_BGR2RGB))\n",
    "axs[0].set_title('Original Real Image')\n",
    "axs[0].axis('off')\n",
    "\n",
    "# Sobel edges\n",
    "axs[1].imshow(magnitude_gradient, cmap='gray')\n",
    "axs[1].set_title('Sobel Edges')\n",
    "axs[1].axis('off')\n",
    "\n",
    "# Canny edges\n",
    "axs[2].imshow(edges, cmap='gray')\n",
    "axs[2].set_title('Canny Edges')\n",
    "axs[2].axis('off')\n",
    "\n",
    "plt.tight_layout()\n",
    "plt.show()"
   ]
  },
  {
   "cell_type": "code",
   "execution_count": null,
   "id": "b52d8d77",
   "metadata": {},
   "outputs": [],
   "source": [
    "gray_image = cv2.cvtColor(Fake_image_np, cv2.COLOR_BGR2GRAY)\n",
    "\n",
    "# Apply Sobel operator to get gradients\n",
    "sobel_x = cv2.Sobel(gray_image, cv2.CV_64F, 1, 0, ksize=5)\n",
    "sobel_y = cv2.Sobel(gray_image, cv2.CV_64F, 0, 1, ksize=5)\n",
    "\n",
    "# Calculate the magnitude of the gradient\n",
    "magnitude_gradient = cv2.magnitude(sobel_x, sobel_y)\n",
    "\n",
    "# Apply edge detection\n",
    "edges = cv2.Canny(gray_image, 100, 200)\n",
    "\n",
    "# Display original image and edges\n",
    "fig, axs = plt.subplots(1, 3, figsize=(21, 7))\n",
    "\n",
    "# Original image\n",
    "axs[0].imshow(cv2.cvtColor(Fake_image_np, cv2.COLOR_BGR2RGB))\n",
    "axs[0].set_title('Original Fake Image')\n",
    "axs[0].axis('off')\n",
    "\n",
    "# Sobel edges\n",
    "axs[1].imshow(magnitude_gradient, cmap='gray')\n",
    "axs[1].set_title('Sobel Edges')\n",
    "axs[1].axis('off')\n",
    "\n",
    "# Canny edges\n",
    "axs[2].imshow(edges, cmap='gray')\n",
    "axs[2].set_title('Canny Edges')\n",
    "axs[2].axis('off')\n",
    "\n",
    "plt.tight_layout()\n",
    "plt.show()"
   ]
  },
  {
   "cell_type": "markdown",
   "id": "03b67760",
   "metadata": {},
   "source": [
    "# Laplacian Edges"
   ]
  },
  {
   "cell_type": "markdown",
   "id": "ddd8827c",
   "metadata": {},
   "source": [
    "Laplacian edge detection, like Sobel and Canny methods, is fundamental in image classification tasks but operates in a slightly different manner. Instead of directly detecting gradients like Sobel or multi-stage processes like Canny, Laplacian edge detection focuses on identifying regions of rapid intensity change within an image."
   ]
  },
  {
   "cell_type": "code",
   "execution_count": null,
   "id": "cf486a81",
   "metadata": {},
   "outputs": [],
   "source": [
    "gray_image = cv2.cvtColor(Real_image_np, cv2.COLOR_BGR2GRAY)\n",
    "\n",
    "# Apply Laplacian edge detection\n",
    "laplacian = cv2.Laplacian(gray_image, cv2.CV_64F)\n",
    "\n",
    "# Display original image and Laplacian edges\n",
    "fig, axs = plt.subplots(1, 2, figsize=(8, 4))\n",
    "\n",
    "# Original image\n",
    "axs[0].imshow(cv2.cvtColor(Real_image_np, cv2.COLOR_BGR2RGB))\n",
    "axs[0].set_title('Original Real Image')\n",
    "axs[0].axis('off')\n",
    "\n",
    "# Laplacian edges\n",
    "axs[1].imshow(laplacian, cmap='gray')\n",
    "axs[1].set_title('Laplacian Edges')\n",
    "axs[1].axis('off')\n",
    "\n",
    "plt.tight_layout()\n",
    "plt.show()"
   ]
  },
  {
   "cell_type": "code",
   "execution_count": null,
   "id": "d446df19",
   "metadata": {},
   "outputs": [],
   "source": [
    "gray_image = cv2.cvtColor(Fake_image_np, cv2.COLOR_BGR2GRAY)\n",
    "\n",
    "# Apply Laplacian edge detection\n",
    "laplacian = cv2.Laplacian(gray_image, cv2.CV_64F)\n",
    "\n",
    "# Display original image and Laplacian edges\n",
    "fig, axs = plt.subplots(1, 2, figsize=(8, 4))\n",
    "\n",
    "# Original image\n",
    "axs[0].imshow(cv2.cvtColor(Fake_image_np, cv2.COLOR_BGR2RGB))\n",
    "axs[0].set_title('Original Fake Image')\n",
    "axs[0].axis('off')\n",
    "\n",
    "# Laplacian edges\n",
    "axs[1].imshow(laplacian, cmap='gray')\n",
    "axs[1].set_title('Laplacian Edges')\n",
    "axs[1].axis('off')\n",
    "\n",
    "plt.tight_layout()\n",
    "plt.show()"
   ]
  },
  {
   "cell_type": "markdown",
   "id": "bb20c1a7",
   "metadata": {},
   "source": [
    "# Image with SIFT Keypoints"
   ]
  },
  {
   "cell_type": "markdown",
   "id": "7f8ef3d8",
   "metadata": {},
   "source": [
    "To compare two images, one real and the other AI-generated, SIFT (Scale-Invariant Feature Transform) keypoints are employed. Initially, the SIFT algorithm is applied to both images, detecting distinctive local features known as keypoints. Following this, descriptors are generated for each keypoint, encoding information about the surrounding regions' gradients and orientations. Subsequently, keypoints are matched between the real and AI-generated images based on the similarity of their descriptors. This matching process facilitates the identification of corresponding points across the images, enabling comparison and analysis. The quality and quantity of matched keypoints are evaluated, with a higher number of matches suggesting greater similarity between the images. Areas of similarity and differences are identified by analyzing the matched keypoints, where well-matched regions indicate similarities, while mismatches or lack of matches may signify differences or artifacts introduced during AI generation. Further processing steps, such as outlier rejection and geometric verification, may be applied to refine the comparison results and identify meaningful distinctions between the images. Through the comparison of SIFT keypoints and descriptors, insights into the similarities and disparities between the real and AI-generated images at a local feature level can be gained, aiding in the assessment of the AI-generated image's quality and fidelity."
   ]
  },
  {
   "cell_type": "markdown",
   "id": "ce5ce69b",
   "metadata": {},
   "source": [
    "### For Real Image"
   ]
  },
  {
   "cell_type": "code",
   "execution_count": null,
   "id": "20cb6e90",
   "metadata": {},
   "outputs": [],
   "source": [
    "sift = cv2.SIFT_create()\n",
    "\n",
    "# Convert magnitude gradient to CV_8U datatype\n",
    "magnitude_gradient = cv2.convertScaleAbs(magnitude_gradient)\n",
    "\n",
    "# Detect keypoints for each image\n",
    "kp_Real_image = sift.detect(Real_image_np, None)\n",
    "kp_magnitude_gradient = sift.detect(magnitude_gradient, None)\n",
    "kp_edges = sift.detect(edges, None)\n",
    "\n",
    "# Draw keypoints on the images\n",
    "img_with_kp_Real_image = cv2.drawKeypoints(Real_image_np, kp_Real_image, None)\n",
    "img_with_kp_magnitude_gradient = cv2.drawKeypoints(magnitude_gradient, kp_magnitude_gradient, None)\n",
    "img_with_kp_edges = cv2.drawKeypoints(edges, kp_edges, None)\n",
    "\n",
    "# Convert images from BGR to RGB for matplotlib\n",
    "img_with_kp_RealImage_rgb = cv2.cvtColor(img_with_kp_Real_image, cv2.COLOR_BGR2RGB)\n",
    "img_with_kp_magnitude_gradient_rgb = cv2.cvtColor(img_with_kp_magnitude_gradient, cv2.COLOR_BGR2RGB)\n",
    "img_with_kp_edges_rgb = cv2.cvtColor(img_with_kp_edges, cv2.COLOR_BGR2RGB)\n",
    "\n",
    "# Display the images with keypoints using matplotlib\n",
    "fig, axs = plt.subplots(3, 2, figsize=(6, 9))\n",
    "\n",
    "# Original image\n",
    "axs[0, 0].imshow(cv2.cvtColor(Real_image_np, cv2.COLOR_BGR2RGB))\n",
    "axs[0, 0].set_title('Original Real Image')\n",
    "axs[0, 0].axis('off')\n",
    "\n",
    "axs[0, 1].imshow(img_with_kp_RealImage_rgb)\n",
    "axs[0, 1].set_title('Image with SIFT Keypoints')\n",
    "axs[0, 1].axis('off')\n",
    "\n",
    "# Sobel edges\n",
    "axs[1, 0].imshow(magnitude_gradient, cmap='gray')\n",
    "axs[1, 0].set_title('Sobel Edges')\n",
    "axs[1, 0].axis('off')\n",
    "\n",
    "axs[1, 1].imshow(img_with_kp_magnitude_gradient_rgb)\n",
    "axs[1, 1].set_title('Sobel Edges with SIFT Keypoints')\n",
    "axs[1, 1].axis('off')\n",
    "\n",
    "# Canny edges\n",
    "axs[2, 0].imshow(edges, cmap='gray')\n",
    "axs[2, 0].set_title('Canny Edges')\n",
    "axs[2, 0].axis('off')\n",
    "\n",
    "axs[2, 1].imshow(img_with_kp_edges_rgb)\n",
    "axs[2, 1].set_title('Canny Edges with SIFT Keypoints')\n",
    "axs[2, 1].axis('off')\n",
    "\n",
    "plt.tight_layout()\n",
    "plt.show()\n"
   ]
  },
  {
   "cell_type": "markdown",
   "id": "16037856",
   "metadata": {},
   "source": [
    "### For Fake Image"
   ]
  },
  {
   "cell_type": "code",
   "execution_count": null,
   "id": "b28c8f5e",
   "metadata": {},
   "outputs": [],
   "source": [
    "sift = cv2.SIFT_create()\n",
    "\n",
    "# Convert magnitude gradient to CV_8U datatype\n",
    "magnitude_gradient = cv2.convertScaleAbs(magnitude_gradient)\n",
    "\n",
    "# Detect keypoints for each image\n",
    "kp_Fake_image = sift.detect(Fake_image_np, None)\n",
    "kp_magnitude_gradient = sift.detect(magnitude_gradient, None)\n",
    "kp_edges = sift.detect(edges, None)\n",
    "\n",
    "# Draw keypoints on the images\n",
    "img_with_kp_Fake_image = cv2.drawKeypoints(Fake_image_np, kp_Fake_image, None)\n",
    "img_with_kp_magnitude_gradient = cv2.drawKeypoints(magnitude_gradient, kp_magnitude_gradient, None)\n",
    "img_with_kp_edges = cv2.drawKeypoints(edges, kp_edges, None)\n",
    "\n",
    "# Convert images from BGR to RGB for matplotlib\n",
    "img_with_kp_FakeImage_rgb = cv2.cvtColor(img_with_kp_Fake_image, cv2.COLOR_BGR2RGB)\n",
    "img_with_kp_magnitude_gradient_rgb = cv2.cvtColor(img_with_kp_magnitude_gradient, cv2.COLOR_BGR2RGB)\n",
    "img_with_kp_edges_rgb = cv2.cvtColor(img_with_kp_edges, cv2.COLOR_BGR2RGB)\n",
    "\n",
    "# Display the images with keypoints using matplotlib\n",
    "fig, axs = plt.subplots(3, 2, figsize=(6, 9))\n",
    "\n",
    "# Original image\n",
    "axs[0, 0].imshow(cv2.cvtColor(Fake_image_np, cv2.COLOR_BGR2RGB))\n",
    "axs[0, 0].set_title('Original Fake Image')\n",
    "axs[0, 0].axis('off')\n",
    "\n",
    "axs[0, 1].imshow(img_with_kp_FakeImage_rgb)\n",
    "axs[0, 1].set_title('Image with SIFT Keypoints')\n",
    "axs[0, 1].axis('off')\n",
    "\n",
    "# Sobel edges\n",
    "axs[1, 0].imshow(magnitude_gradient, cmap='gray')\n",
    "axs[1, 0].set_title('Sobel Edges')\n",
    "axs[1, 0].axis('off')\n",
    "\n",
    "axs[1, 1].imshow(img_with_kp_magnitude_gradient_rgb)\n",
    "axs[1, 1].set_title('Sobel Edges with SIFT Keypoints')\n",
    "axs[1, 1].axis('off')\n",
    "\n",
    "# Canny edges\n",
    "axs[2, 0].imshow(edges, cmap='gray')\n",
    "axs[2, 0].set_title('Canny Edges')\n",
    "axs[2, 0].axis('off')\n",
    "\n",
    "axs[2, 1].imshow(img_with_kp_edges_rgb)\n",
    "axs[2, 1].set_title('Canny Edges with SIFT Keypoints')\n",
    "axs[2, 1].axis('off')\n",
    "\n",
    "plt.tight_layout()\n",
    "plt.show()\n"
   ]
  },
  {
   "cell_type": "markdown",
   "id": "4a635b2b",
   "metadata": {},
   "source": [
    "## Let's see the similarities or matching patterns in Real and Fake Image"
   ]
  },
  {
   "cell_type": "markdown",
   "id": "78e1bfde",
   "metadata": {},
   "source": [
    "Each joining edge tells that there are some similarity across intensity among 2 images. But All are not good matches"
   ]
  },
  {
   "cell_type": "markdown",
   "id": "572c2fde",
   "metadata": {},
   "source": [
    "We can do the same with Sobel and Canny Edge Similarity. In return they will give the number of good matches in images using the keypoints detected from the images"
   ]
  },
  {
   "cell_type": "code",
   "execution_count": null,
   "id": "6e256ae3",
   "metadata": {},
   "outputs": [],
   "source": [
    "kp_Fake, des_Fake = sift.detectAndCompute(Fake_image_np, None)\n",
    "kp_Real, des_Real = sift.detectAndCompute(Real_image_np, None)\n",
    "\n",
    "# Create a Brute Force Matcher object\n",
    "bf = cv2.BFMatcher()\n",
    "\n",
    "# Perform the matching\n",
    "matches = bf.match(des_Fake, des_Real)\n",
    "\n",
    "# Sort the matches based on their distances\n",
    "matches = sorted(matches, key=lambda x: x.distance)\n",
    "\n",
    "# Draw the first 10 matches\n",
    "matching_result = cv2.drawMatches(Fake_image_np, kp_Fake, Real_image_np, kp_Real, matches[:10], None, flags=cv2.DrawMatchesFlags_NOT_DRAW_SINGLE_POINTS)\n",
    "\n",
    "# Display the matching result\n",
    "plt.figure(figsize=(10, 5))\n",
    "plt.imshow(cv2.cvtColor(matching_result, cv2.COLOR_BGR2RGB))\n",
    "plt.title('Feature Matching between Fake and Real Image')\n",
    "plt.axis('off')\n",
    "plt.show()"
   ]
  },
  {
   "cell_type": "markdown",
   "id": "66212149",
   "metadata": {},
   "source": [
    "# CNN Model"
   ]
  },
  {
   "cell_type": "code",
   "execution_count": null,
   "id": "cb7d6fc6",
   "metadata": {},
   "outputs": [],
   "source": [
    "class CNN(nn.Module):\n",
    "    def __init__(self):\n",
    "        super(CNN, self).__init__()\n",
    "        self.conv1 = nn.Conv2d(3, 32, kernel_size=3, stride=1, padding=1)\n",
    "        self.relu = nn.ReLU()\n",
    "        self.pool = nn.MaxPool2d(kernel_size=2, stride=2)\n",
    "        self.conv2 = nn.Conv2d(32, 128, kernel_size=3, stride=1, padding=1)\n",
    "        self.fc1 = nn.Linear(128 * 8 * 8, 256)\n",
    "        self.fc2 = nn.Linear(256, 2)  # 2 classes: fake and real\n",
    "\n",
    "    def forward(self, x):\n",
    "        x = self.pool(self.relu(self.conv1(x)))\n",
    "        x = self.pool(self.relu(self.conv2(x)))\n",
    "        # Flatten the tensor using torch.flatten()\n",
    "        x = torch.flatten(x, start_dim=1)\n",
    "        x = self.relu(self.fc1(x))\n",
    "        x = self.fc2(x)\n",
    "        return x"
   ]
  },
  {
   "cell_type": "code",
   "execution_count": null,
   "id": "7d1333fa",
   "metadata": {},
   "outputs": [],
   "source": [
    "model = CNN()\n",
    "device = torch.device('cuda' if torch.cuda.is_available() else 'cpu')\n",
    "model.to(device)\n",
    "criterion = nn.CrossEntropyLoss()\n",
    "optimizer = optim.Adam(model.parameters(), lr=0.001)"
   ]
  },
  {
   "cell_type": "code",
   "execution_count": null,
   "id": "9ab0de8a",
   "metadata": {},
   "outputs": [],
   "source": [
    "train_loader = DataLoader(train_data, batch_size=32, shuffle=True)\n",
    "test_loader = DataLoader(test_data, batch_size=32, shuffle=True)"
   ]
  },
  {
   "cell_type": "code",
   "execution_count": 106,
   "id": "27d9a2d5",
   "metadata": {},
   "outputs": [
    {
     "ename": "KeyboardInterrupt",
     "evalue": "",
     "output_type": "error",
     "traceback": [
      "\u001b[1;31m---------------------------------------------------------------------------\u001b[0m",
      "\u001b[1;31mKeyboardInterrupt\u001b[0m                         Traceback (most recent call last)",
      "Cell \u001b[1;32mIn[106], line 14\u001b[0m\n\u001b[0;32m     12\u001b[0m loss \u001b[38;5;241m=\u001b[39m criterion(outputs, labels)\n\u001b[0;32m     13\u001b[0m loss\u001b[38;5;241m.\u001b[39mbackward()\n\u001b[1;32m---> 14\u001b[0m optimizer\u001b[38;5;241m.\u001b[39mstep()\n\u001b[0;32m     15\u001b[0m running_loss \u001b[38;5;241m+\u001b[39m\u001b[38;5;241m=\u001b[39m loss\u001b[38;5;241m.\u001b[39mitem()\n\u001b[0;32m     16\u001b[0m _, predicted \u001b[38;5;241m=\u001b[39m torch\u001b[38;5;241m.\u001b[39mmax(outputs\u001b[38;5;241m.\u001b[39mdata, \u001b[38;5;241m1\u001b[39m)\n",
      "File \u001b[1;32m~\\anaconda3\\Lib\\site-packages\\torch\\optim\\optimizer.py:385\u001b[0m, in \u001b[0;36mOptimizer.profile_hook_step.<locals>.wrapper\u001b[1;34m(*args, **kwargs)\u001b[0m\n\u001b[0;32m    380\u001b[0m         \u001b[38;5;28;01melse\u001b[39;00m:\n\u001b[0;32m    381\u001b[0m             \u001b[38;5;28;01mraise\u001b[39;00m \u001b[38;5;167;01mRuntimeError\u001b[39;00m(\n\u001b[0;32m    382\u001b[0m                 \u001b[38;5;124mf\u001b[39m\u001b[38;5;124m\"\u001b[39m\u001b[38;5;132;01m{\u001b[39;00mfunc\u001b[38;5;132;01m}\u001b[39;00m\u001b[38;5;124m must return None or a tuple of (new_args, new_kwargs), but got \u001b[39m\u001b[38;5;132;01m{\u001b[39;00mresult\u001b[38;5;132;01m}\u001b[39;00m\u001b[38;5;124m.\u001b[39m\u001b[38;5;124m\"\u001b[39m\n\u001b[0;32m    383\u001b[0m             )\n\u001b[1;32m--> 385\u001b[0m out \u001b[38;5;241m=\u001b[39m func(\u001b[38;5;241m*\u001b[39margs, \u001b[38;5;241m*\u001b[39m\u001b[38;5;241m*\u001b[39mkwargs)\n\u001b[0;32m    386\u001b[0m \u001b[38;5;28mself\u001b[39m\u001b[38;5;241m.\u001b[39m_optimizer_step_code()\n\u001b[0;32m    388\u001b[0m \u001b[38;5;66;03m# call optimizer step post hooks\u001b[39;00m\n",
      "File \u001b[1;32m~\\anaconda3\\Lib\\site-packages\\torch\\optim\\optimizer.py:76\u001b[0m, in \u001b[0;36m_use_grad_for_differentiable.<locals>._use_grad\u001b[1;34m(self, *args, **kwargs)\u001b[0m\n\u001b[0;32m     74\u001b[0m     torch\u001b[38;5;241m.\u001b[39mset_grad_enabled(\u001b[38;5;28mself\u001b[39m\u001b[38;5;241m.\u001b[39mdefaults[\u001b[38;5;124m'\u001b[39m\u001b[38;5;124mdifferentiable\u001b[39m\u001b[38;5;124m'\u001b[39m])\n\u001b[0;32m     75\u001b[0m     torch\u001b[38;5;241m.\u001b[39m_dynamo\u001b[38;5;241m.\u001b[39mgraph_break()\n\u001b[1;32m---> 76\u001b[0m     ret \u001b[38;5;241m=\u001b[39m func(\u001b[38;5;28mself\u001b[39m, \u001b[38;5;241m*\u001b[39margs, \u001b[38;5;241m*\u001b[39m\u001b[38;5;241m*\u001b[39mkwargs)\n\u001b[0;32m     77\u001b[0m \u001b[38;5;28;01mfinally\u001b[39;00m:\n\u001b[0;32m     78\u001b[0m     torch\u001b[38;5;241m.\u001b[39m_dynamo\u001b[38;5;241m.\u001b[39mgraph_break()\n",
      "File \u001b[1;32m~\\anaconda3\\Lib\\site-packages\\torch\\optim\\adam.py:166\u001b[0m, in \u001b[0;36mAdam.step\u001b[1;34m(self, closure)\u001b[0m\n\u001b[0;32m    155\u001b[0m     beta1, beta2 \u001b[38;5;241m=\u001b[39m group[\u001b[38;5;124m'\u001b[39m\u001b[38;5;124mbetas\u001b[39m\u001b[38;5;124m'\u001b[39m]\n\u001b[0;32m    157\u001b[0m     has_complex \u001b[38;5;241m=\u001b[39m \u001b[38;5;28mself\u001b[39m\u001b[38;5;241m.\u001b[39m_init_group(\n\u001b[0;32m    158\u001b[0m         group,\n\u001b[0;32m    159\u001b[0m         params_with_grad,\n\u001b[1;32m   (...)\u001b[0m\n\u001b[0;32m    163\u001b[0m         max_exp_avg_sqs,\n\u001b[0;32m    164\u001b[0m         state_steps)\n\u001b[1;32m--> 166\u001b[0m     adam(\n\u001b[0;32m    167\u001b[0m         params_with_grad,\n\u001b[0;32m    168\u001b[0m         grads,\n\u001b[0;32m    169\u001b[0m         exp_avgs,\n\u001b[0;32m    170\u001b[0m         exp_avg_sqs,\n\u001b[0;32m    171\u001b[0m         max_exp_avg_sqs,\n\u001b[0;32m    172\u001b[0m         state_steps,\n\u001b[0;32m    173\u001b[0m         amsgrad\u001b[38;5;241m=\u001b[39mgroup[\u001b[38;5;124m'\u001b[39m\u001b[38;5;124mamsgrad\u001b[39m\u001b[38;5;124m'\u001b[39m],\n\u001b[0;32m    174\u001b[0m         has_complex\u001b[38;5;241m=\u001b[39mhas_complex,\n\u001b[0;32m    175\u001b[0m         beta1\u001b[38;5;241m=\u001b[39mbeta1,\n\u001b[0;32m    176\u001b[0m         beta2\u001b[38;5;241m=\u001b[39mbeta2,\n\u001b[0;32m    177\u001b[0m         lr\u001b[38;5;241m=\u001b[39mgroup[\u001b[38;5;124m'\u001b[39m\u001b[38;5;124mlr\u001b[39m\u001b[38;5;124m'\u001b[39m],\n\u001b[0;32m    178\u001b[0m         weight_decay\u001b[38;5;241m=\u001b[39mgroup[\u001b[38;5;124m'\u001b[39m\u001b[38;5;124mweight_decay\u001b[39m\u001b[38;5;124m'\u001b[39m],\n\u001b[0;32m    179\u001b[0m         eps\u001b[38;5;241m=\u001b[39mgroup[\u001b[38;5;124m'\u001b[39m\u001b[38;5;124meps\u001b[39m\u001b[38;5;124m'\u001b[39m],\n\u001b[0;32m    180\u001b[0m         maximize\u001b[38;5;241m=\u001b[39mgroup[\u001b[38;5;124m'\u001b[39m\u001b[38;5;124mmaximize\u001b[39m\u001b[38;5;124m'\u001b[39m],\n\u001b[0;32m    181\u001b[0m         foreach\u001b[38;5;241m=\u001b[39mgroup[\u001b[38;5;124m'\u001b[39m\u001b[38;5;124mforeach\u001b[39m\u001b[38;5;124m'\u001b[39m],\n\u001b[0;32m    182\u001b[0m         capturable\u001b[38;5;241m=\u001b[39mgroup[\u001b[38;5;124m'\u001b[39m\u001b[38;5;124mcapturable\u001b[39m\u001b[38;5;124m'\u001b[39m],\n\u001b[0;32m    183\u001b[0m         differentiable\u001b[38;5;241m=\u001b[39mgroup[\u001b[38;5;124m'\u001b[39m\u001b[38;5;124mdifferentiable\u001b[39m\u001b[38;5;124m'\u001b[39m],\n\u001b[0;32m    184\u001b[0m         fused\u001b[38;5;241m=\u001b[39mgroup[\u001b[38;5;124m'\u001b[39m\u001b[38;5;124mfused\u001b[39m\u001b[38;5;124m'\u001b[39m],\n\u001b[0;32m    185\u001b[0m         grad_scale\u001b[38;5;241m=\u001b[39m\u001b[38;5;28mgetattr\u001b[39m(\u001b[38;5;28mself\u001b[39m, \u001b[38;5;124m\"\u001b[39m\u001b[38;5;124mgrad_scale\u001b[39m\u001b[38;5;124m\"\u001b[39m, \u001b[38;5;28;01mNone\u001b[39;00m),\n\u001b[0;32m    186\u001b[0m         found_inf\u001b[38;5;241m=\u001b[39m\u001b[38;5;28mgetattr\u001b[39m(\u001b[38;5;28mself\u001b[39m, \u001b[38;5;124m\"\u001b[39m\u001b[38;5;124mfound_inf\u001b[39m\u001b[38;5;124m\"\u001b[39m, \u001b[38;5;28;01mNone\u001b[39;00m),\n\u001b[0;32m    187\u001b[0m     )\n\u001b[0;32m    189\u001b[0m \u001b[38;5;28;01mreturn\u001b[39;00m loss\n",
      "File \u001b[1;32m~\\anaconda3\\Lib\\site-packages\\torch\\optim\\adam.py:316\u001b[0m, in \u001b[0;36madam\u001b[1;34m(params, grads, exp_avgs, exp_avg_sqs, max_exp_avg_sqs, state_steps, foreach, capturable, differentiable, fused, grad_scale, found_inf, has_complex, amsgrad, beta1, beta2, lr, weight_decay, eps, maximize)\u001b[0m\n\u001b[0;32m    313\u001b[0m \u001b[38;5;28;01melse\u001b[39;00m:\n\u001b[0;32m    314\u001b[0m     func \u001b[38;5;241m=\u001b[39m _single_tensor_adam\n\u001b[1;32m--> 316\u001b[0m func(params,\n\u001b[0;32m    317\u001b[0m      grads,\n\u001b[0;32m    318\u001b[0m      exp_avgs,\n\u001b[0;32m    319\u001b[0m      exp_avg_sqs,\n\u001b[0;32m    320\u001b[0m      max_exp_avg_sqs,\n\u001b[0;32m    321\u001b[0m      state_steps,\n\u001b[0;32m    322\u001b[0m      amsgrad\u001b[38;5;241m=\u001b[39mamsgrad,\n\u001b[0;32m    323\u001b[0m      has_complex\u001b[38;5;241m=\u001b[39mhas_complex,\n\u001b[0;32m    324\u001b[0m      beta1\u001b[38;5;241m=\u001b[39mbeta1,\n\u001b[0;32m    325\u001b[0m      beta2\u001b[38;5;241m=\u001b[39mbeta2,\n\u001b[0;32m    326\u001b[0m      lr\u001b[38;5;241m=\u001b[39mlr,\n\u001b[0;32m    327\u001b[0m      weight_decay\u001b[38;5;241m=\u001b[39mweight_decay,\n\u001b[0;32m    328\u001b[0m      eps\u001b[38;5;241m=\u001b[39meps,\n\u001b[0;32m    329\u001b[0m      maximize\u001b[38;5;241m=\u001b[39mmaximize,\n\u001b[0;32m    330\u001b[0m      capturable\u001b[38;5;241m=\u001b[39mcapturable,\n\u001b[0;32m    331\u001b[0m      differentiable\u001b[38;5;241m=\u001b[39mdifferentiable,\n\u001b[0;32m    332\u001b[0m      grad_scale\u001b[38;5;241m=\u001b[39mgrad_scale,\n\u001b[0;32m    333\u001b[0m      found_inf\u001b[38;5;241m=\u001b[39mfound_inf)\n",
      "File \u001b[1;32m~\\anaconda3\\Lib\\site-packages\\torch\\optim\\adam.py:391\u001b[0m, in \u001b[0;36m_single_tensor_adam\u001b[1;34m(params, grads, exp_avgs, exp_avg_sqs, max_exp_avg_sqs, state_steps, grad_scale, found_inf, amsgrad, has_complex, beta1, beta2, lr, weight_decay, eps, maximize, capturable, differentiable)\u001b[0m\n\u001b[0;32m    388\u001b[0m     param \u001b[38;5;241m=\u001b[39m torch\u001b[38;5;241m.\u001b[39mview_as_real(param)\n\u001b[0;32m    390\u001b[0m \u001b[38;5;66;03m# Decay the first and second moment running average coefficient\u001b[39;00m\n\u001b[1;32m--> 391\u001b[0m exp_avg\u001b[38;5;241m.\u001b[39mlerp_(grad, \u001b[38;5;241m1\u001b[39m \u001b[38;5;241m-\u001b[39m beta1)\n\u001b[0;32m    392\u001b[0m exp_avg_sq\u001b[38;5;241m.\u001b[39mmul_(beta2)\u001b[38;5;241m.\u001b[39maddcmul_(grad, grad\u001b[38;5;241m.\u001b[39mconj(), value\u001b[38;5;241m=\u001b[39m\u001b[38;5;241m1\u001b[39m \u001b[38;5;241m-\u001b[39m beta2)\n\u001b[0;32m    394\u001b[0m \u001b[38;5;28;01mif\u001b[39;00m capturable \u001b[38;5;129;01mor\u001b[39;00m differentiable:\n",
      "\u001b[1;31mKeyboardInterrupt\u001b[0m: "
     ]
    }
   ],
   "source": [
    "num_epochs = 20  \n",
    "\n",
    "for epoch in range(num_epochs):\n",
    "    model.train()\n",
    "    running_loss = 0.0\n",
    "    correct = 0\n",
    "    total = 0\n",
    "    for images, labels in train_loader:\n",
    "        images, labels = images.to(device), labels.to(device)\n",
    "        optimizer.zero_grad()\n",
    "        outputs = model(images)\n",
    "        loss = criterion(outputs, labels)\n",
    "        loss.backward()\n",
    "        optimizer.step()\n",
    "        running_loss += loss.item()\n",
    "        _, predicted = torch.max(outputs.data, 1)\n",
    "        total += labels.size(0)\n",
    "        correct += (predicted == labels).sum().item()\n",
    "    \n",
    "    train_accuracy = 100 * correct / total\n",
    "    print(f'Epoch {epoch+1}/{num_epochs}, Loss: {running_loss/len(train_loader):.4f}, Train Acc: {train_accuracy:.2f}%')"
   ]
  },
  {
   "cell_type": "code",
   "execution_count": null,
   "id": "82f38f3f",
   "metadata": {},
   "outputs": [],
   "source": [
    "model.eval()\n",
    "correct = 0\n",
    "total = 0\n",
    "with torch.no_grad():\n",
    "    for images, labels in test_loader:\n",
    "        images, labels = images.to(device), labels.to(device)\n",
    "        outputs = model(images)\n",
    "        _, predicted = torch.max(outputs.data, 1)\n",
    "        total += labels.size(0)\n",
    "        correct += (predicted == labels).sum().item()\n",
    "\n",
    "accuracy = 100 * correct / total\n",
    "print(f'Test Accuracy: {accuracy}%')"
   ]
  },
  {
   "cell_type": "markdown",
   "id": "7c0d8cae",
   "metadata": {},
   "source": [
    "# XAI (Explainable AI)"
   ]
  },
  {
   "cell_type": "code",
   "execution_count": 109,
   "id": "3629a234",
   "metadata": {},
   "outputs": [],
   "source": [
    "from lime import lime_image\n",
    "import shap\n",
    "from skimage.segmentation import slic\n",
    "from skimage.segmentation import mark_boundaries"
   ]
  },
  {
   "cell_type": "markdown",
   "id": "0e4b6046",
   "metadata": {},
   "source": [
    "##  LIME (Local Interpretable Model-agnostic Explanations)"
   ]
  },
  {
   "cell_type": "markdown",
   "id": "0a4f2ebf",
   "metadata": {},
   "source": [
    "In LIME explanations, the yellow color typically represents the regions of the image that contribute positively to the prediction made by the model. These regions are considered important for the model's decision-making process."
   ]
  },
  {
   "cell_type": "code",
   "execution_count": 112,
   "id": "02e8333c",
   "metadata": {},
   "outputs": [
    {
     "data": {
      "application/vnd.jupyter.widget-view+json": {
       "model_id": "275de601adec4cfd93e5e396e1312648",
       "version_major": 2,
       "version_minor": 0
      },
      "text/plain": [
       "  0%|          | 0/1000 [00:00<?, ?it/s]"
      ]
     },
     "metadata": {},
     "output_type": "display_data"
    },
    {
     "name": "stderr",
     "output_type": "stream",
     "text": [
      "Clipping input data to the valid range for imshow with RGB data ([0..1] for floats or [0..255] for integers).\n"
     ]
    },
    {
     "data": {
      "image/png": "[encoded data removed]",
      "text/plain": [
       "<Figure size 640x480 with 2 Axes>"
      ]
     },
     "metadata": {},
     "output_type": "display_data"
    },
    {
     "data": {
      "application/vnd.jupyter.widget-view+json": {
       "model_id": "ea47d9e79b18449a92f0a2185c69c94a",
       "version_major": 2,
       "version_minor": 0
      },
      "text/plain": [
       "  0%|          | 0/1000 [00:00<?, ?it/s]"
      ]
     },
     "metadata": {},
     "output_type": "display_data"
    },
    {
     "name": "stderr",
     "output_type": "stream",
     "text": [
      "Clipping input data to the valid range for imshow with RGB data ([0..1] for floats or [0..255] for integers).\n"
     ]
    },
    {
     "data": {
      "image/png": "[encoded data removed]",
      "text/plain": [
       "<Figure size 640x480 with 2 Axes>"
      ]
     },
     "metadata": {},
     "output_type": "display_data"
    },
    {
     "data": {
      "application/vnd.jupyter.widget-view+json": {
       "model_id": "f4a61efcc5ec40e69fb230201e0888ef",
       "version_major": 2,
       "version_minor": 0
      },
      "text/plain": [
       "  0%|          | 0/1000 [00:00<?, ?it/s]"
      ]
     },
     "metadata": {},
     "output_type": "display_data"
    },
    {
     "name": "stderr",
     "output_type": "stream",
     "text": [
      "Clipping input data to the valid range for imshow with RGB data ([0..1] for floats or [0..255] for integers).\n"
     ]
    },
    {
     "data": {
      "image/png": "[encoded data removed]",
      "text/plain": [
       "<Figure size 640x480 with 2 Axes>"
      ]
     },
     "metadata": {},
     "output_type": "display_data"
    },
    {
     "data": {
      "application/vnd.jupyter.widget-view+json": {
       "model_id": "3fee5330e0054682875af48a0997dfdd",
       "version_major": 2,
       "version_minor": 0
      },
      "text/plain": [
       "  0%|          | 0/1000 [00:00<?, ?it/s]"
      ]
     },
     "metadata": {},
     "output_type": "display_data"
    },
    {
     "name": "stderr",
     "output_type": "stream",
     "text": [
      "Clipping input data to the valid range for imshow with RGB data ([0..1] for floats or [0..255] for integers).\n"
     ]
    },
    {
     "data": {
      "image/png": "[encoded data removed]",
      "text/plain": [
       "<Figure size 640x480 with 2 Axes>"
      ]
     },
     "metadata": {},
     "output_type": "display_data"
    },
    {
     "data": {
      "application/vnd.jupyter.widget-view+json": {
       "model_id": "7337e9fa4d904c1cacacce603e197862",
       "version_major": 2,
       "version_minor": 0
      },
      "text/plain": [
       "  0%|          | 0/1000 [00:00<?, ?it/s]"
      ]
     },
     "metadata": {},
     "output_type": "display_data"
    },
    {
     "name": "stderr",
     "output_type": "stream",
     "text": [
      "Clipping input data to the valid range for imshow with RGB data ([0..1] for floats or [0..255] for integers).\n"
     ]
    },
    {
     "data": {
      "image/png": "[encoded data removed]",
      "text/plain": [
       "<Figure size 640x480 with 2 Axes>"
      ]
     },
     "metadata": {},
     "output_type": "display_data"
    }
   ],
   "source": [
    "def predict_fn(images):\n",
    "    images_tensor = torch.tensor(images).permute(0, 3, 1, 2).float() / 255.0  # Convert to PyTorch tensor and normalize\n",
    "    model.eval()\n",
    "    with torch.no_grad():\n",
    "        outputs = model(images_tensor)\n",
    "        probs = torch.softmax(outputs, dim=1)\n",
    "    return probs.numpy()\n",
    "\n",
    "# Instantiate LIME explainer\n",
    "explainer = lime_image.LimeImageExplainer()\n",
    "\n",
    "# Define transformation to apply to input images\n",
    "transform = transforms.Compose([\n",
    "    transforms.Resize((224, 224)),  # Assuming input size of CNN is (224, 224)\n",
    "    transforms.ToTensor(),\n",
    "])\n",
    "\n",
    "# Iterate over 10 images in the test set\n",
    "for i, (image, label) in enumerate(test_loader):\n",
    "    if i >= 5:\n",
    "        break\n",
    "    \n",
    "    # Preprocess image and convert to numpy array\n",
    "    image_numpy = image.permute(0, 2, 3, 1).numpy()  # Convert PyTorch tensor to numpy array\n",
    "    image_numpy = (image_numpy * 255).astype(np.uint8)  # Convert to uint8 for LIME\n",
    "    \n",
    "    # Display original image\n",
    "    plt.subplot(1, 2, 1)\n",
    "    plt.imshow(image_numpy[0])\n",
    "    plt.title(f\"Original Image {i+1}\")\n",
    "    plt.axis('off')\n",
    "    \n",
    "    # Generate explanations\n",
    "    explanation = explainer.explain_instance(image_numpy[0], predict_fn, top_labels=1, hide_color=0, num_samples=1000, segmentation_fn=slic)\n",
    "    \n",
    "    # Visualize explanations\n",
    "    temp, mask = explanation.get_image_and_mask(explanation.top_labels[0], positive_only=True, num_features=5, hide_rest=True)\n",
    "    plt.subplot(1, 2, 2)\n",
    "    plt.imshow(mark_boundaries(temp / 2 + 0.5, mask))\n",
    "    plt.title(f\"Explanation for Image {i+1}\")\n",
    "    plt.axis('off')\n",
    "    \n",
    "    plt.show()"
   ]
  },
  {
   "cell_type": "markdown",
   "id": "6ee0db77",
   "metadata": {},
   "source": [
    "## GradCAM "
   ]
  },
  {
   "cell_type": "code",
   "execution_count": 90,
   "id": "6fb1fa94",
   "metadata": {},
   "outputs": [
    {
     "data": {
      "image/png": "[encoded data removed]",
      "text/plain": [
       "<Figure size 1000x500 with 2 Axes>"
      ]
     },
     "metadata": {},
     "output_type": "display_data"
    }
   ],
   "source": [
    "class GradCAM:\n",
    "    def __init__(self, model, target_layer):\n",
    "        self.model = model\n",
    "        self.target_layer = target_layer\n",
    "        self.gradients = None\n",
    "        self.activations = None\n",
    "        \n",
    "        self.model.eval()\n",
    "        self.register_hooks()\n",
    "        \n",
    "    def register_hooks(self):\n",
    "        def backward_hook(module, grad_input, grad_output):\n",
    "            self.gradients = grad_output[0]\n",
    "        \n",
    "        def forward_hook(module, input, output):\n",
    "            self.activations = output\n",
    "        \n",
    "        target_layer = self.model._modules[self.target_layer]\n",
    "        backward_handle = target_layer.register_backward_hook(backward_hook)\n",
    "        forward_handle = target_layer.register_forward_hook(forward_hook)\n",
    "        \n",
    "        self.forward_handle = forward_handle\n",
    "        self.backward_handle = backward_handle\n",
    "        \n",
    "    def generate(self, input_image, target_class=None):\n",
    "        self.model.zero_grad()\n",
    "        \n",
    "        output = self.model(input_image.unsqueeze(0))\n",
    "        \n",
    "        if target_class is None:\n",
    "            target_class = output.argmax()\n",
    "        \n",
    "        one_hot_output = torch.zeros_like(output)\n",
    "        one_hot_output[0][target_class] = 1\n",
    "        \n",
    "        self.model.zero_grad()\n",
    "        output.backward(gradient=one_hot_output, retain_graph=True)\n",
    "        \n",
    "        pooled_gradients = torch.mean(self.gradients, dim=[0, 2, 3])\n",
    "        activations = self.activations.detach()\n",
    "        \n",
    "        weighted_activations = torch.zeros(activations.size(1))\n",
    "        for i in range(activations.size(1)):\n",
    "            weighted_activations[i] = torch.sum(pooled_gradients[i] * activations[0, i, :, :])\n",
    "        \n",
    "        heatmap = torch.clamp(weighted_activations, min=0)\n",
    "        heatmap /= torch.max(heatmap)\n",
    "        \n",
    "        return heatmap.numpy()\n",
    "\n",
    "# Initialize Grad-CAM\n",
    "grad_cam = GradCAM(model, 'conv2')  # Choose the target layer\n",
    "\n",
    "# Overlay heatmap onto input image\n",
    "def overlay_heatmap(input_image, heatmap, alpha=0.6):\n",
    "    # Convert input image to numpy array and transpose dimensions\n",
    "    input_image = np.transpose(input_image.cpu().numpy(), (1, 2, 0))\n",
    "    \n",
    "    # Resize heatmap to match the input image size\n",
    "    heatmap = cv2.resize(heatmap, (input_image.shape[1], input_image.shape[0]))\n",
    "    \n",
    "    # Normalize heatmap values\n",
    "    heatmap = (heatmap - np.min(heatmap)) / (np.max(heatmap) - np.min(heatmap))\n",
    "    \n",
    "    # Convert heatmap to RGB\n",
    "    heatmap = cv2.applyColorMap(np.uint8(255 * heatmap), cv2.COLORMAP_JET)\n",
    "    \n",
    "    # Convert heatmap to the same data type as the input image\n",
    "    heatmap = heatmap.astype(np.float32) / 255.0\n",
    "    \n",
    "    # Overlay heatmap onto input image\n",
    "    overlaid_img = cv2.addWeighted(input_image, 1 - alpha, heatmap, alpha, 0)\n",
    "    \n",
    "    return overlaid_img\n",
    "\n",
    "# Example usage\n",
    "image_index = 0  # Choose the index of the image in the test set\n",
    "input_image, _ = test_data[image_index]\n",
    "heatmap = grad_cam.generate(input_image.to(device))\n",
    "\n",
    "# Overlay heatmap onto input image\n",
    "overlaid_img = overlay_heatmap(input_image, heatmap)\n",
    "\n",
    "# Plot the overlaid image\n",
    "plt.figure(figsize=(10, 5))\n",
    "plt.subplot(1, 2, 1)\n",
    "plt.imshow(np.transpose(input_image.cpu().numpy(), (1, 2, 0)))\n",
    "plt.title('Input Image')\n",
    "plt.axis('off')\n",
    "\n",
    "plt.subplot(1, 2, 2)\n",
    "plt.imshow(overlaid_img)\n",
    "plt.title('Overlayed Heatmap')\n",
    "plt.axis('off')\n",
    "\n",
    "plt.show()"
   ]
  },
  {
   "cell_type": "markdown",
   "id": "4758aefe",
   "metadata": {},
   "source": [
    "## ResNet Model"
   ]
  },
  {
   "cell_type": "code",
   "execution_count": 2,
   "id": "67eecfd8",
   "metadata": {},
   "outputs": [],
   "source": [
    "import torchvision.models as models"
   ]
  },
  {
   "cell_type": "code",
   "execution_count": 3,
   "id": "d7a6cedf",
   "metadata": {},
   "outputs": [
    {
     "ename": "NameError",
     "evalue": "name 'nn' is not defined",
     "output_type": "error",
     "traceback": [
      "\u001b[1;31m---------------------------------------------------------------------------\u001b[0m",
      "\u001b[1;31mNameError\u001b[0m                                 Traceback (most recent call last)",
      "Cell \u001b[1;32mIn[3], line 1\u001b[0m\n\u001b[1;32m----> 1\u001b[0m \u001b[38;5;28;01mclass\u001b[39;00m \u001b[38;5;21;01mResNetModel\u001b[39;00m(nn\u001b[38;5;241m.\u001b[39mModule):\n\u001b[0;32m      2\u001b[0m     \u001b[38;5;28;01mdef\u001b[39;00m \u001b[38;5;21m__init__\u001b[39m(\u001b[38;5;28mself\u001b[39m):\n\u001b[0;32m      3\u001b[0m         \u001b[38;5;28msuper\u001b[39m(ResNetModel, \u001b[38;5;28mself\u001b[39m)\u001b[38;5;241m.\u001b[39m\u001b[38;5;21m__init__\u001b[39m()\n",
      "\u001b[1;31mNameError\u001b[0m: name 'nn' is not defined"
     ]
    }
   ],
   "source": [
    "class ResNetModel(nn.Module):\n",
    "    def __init__(self):\n",
    "        super(ResNetModel, self).__init__()\n",
    "        self.resnet = models.resnet18(pretrained=True)  # You can choose different versions like resnet34, resnet50, etc.\n",
    "        self.resnet.fc = nn.Linear(self.resnet.fc.in_features, 2)  # 2 classes: fake and real\n",
    "        \n",
    "    def forward(self, x):\n",
    "        return self.resnet(x)"
   ]
  },
  {
   "cell_type": "code",
   "execution_count": 142,
   "id": "5934f134",
   "metadata": {},
   "outputs": [],
   "source": [
    "model = ResNetModel()\n",
    "device = torch.device('cuda' if torch.cuda.is_available() else 'cpu')\n",
    "model.to(device)\n",
    "\n",
    "criterion = nn.CrossEntropyLoss()\n",
    "optimizer = optim.Adam(model.parameters(), lr=0.001)"
   ]
  },
  {
   "cell_type": "code",
   "execution_count": 1,
   "id": "56cfe704",
   "metadata": {},
   "outputs": [
    {
     "ename": "NameError",
     "evalue": "name 'model' is not defined",
     "output_type": "error",
     "traceback": [
      "\u001b[1;31m---------------------------------------------------------------------------\u001b[0m",
      "\u001b[1;31mNameError\u001b[0m                                 Traceback (most recent call last)",
      "Cell \u001b[1;32mIn[1], line 4\u001b[0m\n\u001b[0;32m      1\u001b[0m num_epochs \u001b[38;5;241m=\u001b[39m \u001b[38;5;241m20\u001b[39m  \n\u001b[0;32m      3\u001b[0m \u001b[38;5;28;01mfor\u001b[39;00m epoch \u001b[38;5;129;01min\u001b[39;00m \u001b[38;5;28mrange\u001b[39m(num_epochs):\n\u001b[1;32m----> 4\u001b[0m     model\u001b[38;5;241m.\u001b[39mtrain()\n\u001b[0;32m      5\u001b[0m     running_loss \u001b[38;5;241m=\u001b[39m \u001b[38;5;241m0.0\u001b[39m\n\u001b[0;32m      6\u001b[0m     correct \u001b[38;5;241m=\u001b[39m \u001b[38;5;241m0\u001b[39m\n",
      "\u001b[1;31mNameError\u001b[0m: name 'model' is not defined"
     ]
    }
   ],
   "source": [
    "num_epochs = 20  \n",
    "\n",
    "for epoch in range(num_epochs):\n",
    "    model.train()\n",
    "    running_loss = 0.0\n",
    "    correct = 0\n",
    "    total = 0\n",
    "    for images, labels in train_loader:\n",
    "        images, labels = images.to(device), labels.to(device)\n",
    "        optimizer.zero_grad()\n",
    "        outputs = model(images)\n",
    "        loss = criterion(outputs, labels)\n",
    "        loss.backward()\n",
    "        optimizer.step()\n",
    "        running_loss += loss.item()\n",
    "        _, predicted = torch.max(outputs.data, 1)\n",
    "        total += labels.size(0)\n",
    "        correct += (predicted == labels).sum().item()\n",
    "    \n",
    "    train_accuracy = 100 * correct / total\n",
    "    print(f'Epoch {epoch+1}/{num_epochs}, Loss: {running_loss/len(train_loader):.4f}, Train Acc: {train_accuracy:.2f}%')"
   ]
  },
  {
   "cell_type": "code",
   "execution_count": null,
   "id": "08f5ad55",
   "metadata": {},
   "outputs": [],
   "source": [
    " model.eval()\n",
    "    correct = 0\n",
    "    total = 0\n",
    "    all_labels = []\n",
    "    all_predictions = []\n",
    "    with torch.no_grad():\n",
    "        for images, labels in test_loader:\n",
    "            images, labels = images.to(device), labels.to(device)\n",
    "            outputs = model(images)\n",
    "            _, predicted = torch.max(outputs.data, 1)\n",
    "            total += labels.size(0)\n",
    "            correct += (predicted == labels).sum().item()\n",
    "            all_labels.extend(labels.cpu().numpy())\n",
    "            all_predictions.extend(predicted.cpu().numpy())\n",
    "\n",
    "    test_accuracy = 100 * correct / total\n",
    "    print(f'Test Accuracy: {test_accuracy:.2f}%')\n",
    "    test_accuracies.append(test_accuracy)\n"
   ]
  },
  {
   "cell_type": "code",
   "execution_count": null,
   "id": "d2025093",
   "metadata": {},
   "outputs": [],
   "source": [
    "cm = confusion_matrix(all_labels, all_predictions)\n",
    "    plt.figure(figsize=(8, 6))\n",
    "    sns.heatmap(cm, annot=True, fmt='d', cmap='Blues', xticklabels=['fake', 'real'], yticklabels=['fake', 'real'])\n",
    "    plt.xlabel('Predicted labels')\n",
    "    plt.ylabel('True labels')\n",
    "    plt.title('Confusion Matrix')\n",
    "    plt.show()\n",
    "\n",
    "    # Classification report\n",
    "    print(\"Classification Report:\")\n",
    "    print(classification_report(all_labels, all_predictions, target_names=['fake', 'real']))"
   ]
  },
  {
   "cell_type": "markdown",
   "id": "42b5ddb5",
   "metadata": {},
   "source": [
    "## VGGNetModel"
   ]
  },
  {
   "cell_type": "code",
   "execution_count": null,
   "id": "4bcc40ac",
   "metadata": {},
   "outputs": [],
   "source": [
    "class VGGNetModel(nn.Module):\n",
    "    def __init__(self):\n",
    "        super(VGGNetModel, self).__init__()\n",
    "        self.vgg = models.vgg16(pretrained=True)  # You can also try vgg11, vgg19, etc.\n",
    "        self.vgg.classifier[6] = nn.Linear(self.vgg.classifier[6].in_features, 2)  # 2 classes: fake and real\n",
    "        \n",
    "    def forward(self, x):\n",
    "        return self.vgg(x)\n"
   ]
  },
  {
   "cell_type": "code",
   "execution_count": null,
   "id": "559cc25e",
   "metadata": {},
   "outputs": [],
   "source": [
    "model = VGGNetModel()\n",
    "device = torch.device('cuda' if torch.cuda.is_available() else 'cpu')\n",
    "model.to(device)\n",
    "\n",
    "criterion = nn.CrossEntropyLoss()\n",
    "optimizer = optim.Adam(model.parameters(), lr=0.001)"
   ]
  },
  {
   "cell_type": "code",
   "execution_count": null,
   "id": "10228661",
   "metadata": {},
   "outputs": [],
   "source": [
    "num_epochs = 20  \n",
    "\n",
    "for epoch in range(num_epochs):\n",
    "    model.train()\n",
    "    running_loss = 0.0\n",
    "    correct = 0\n",
    "    total = 0\n",
    "    for images, labels in train_loader:\n",
    "        images, labels = images.to(device), labels.to(device)\n",
    "        optimizer.zero_grad()\n",
    "        outputs = model(images)\n",
    "        loss = criterion(outputs, labels)\n",
    "        loss.backward()\n",
    "        optimizer.step()\n",
    "        running_loss += loss.item()\n",
    "        _, predicted = torch.max(outputs.data, 1)\n",
    "        total += labels.size(0)\n",
    "        correct += (predicted == labels).sum().item()\n",
    "    \n",
    "    train_accuracy = 100 * correct / total\n",
    "    print(f'Epoch {epoch+1}/{num_epochs}, Loss: {running_loss/len(train_loader):.4f}, Train Acc: {train_accuracy:.2f}%')"
   ]
  },
  {
   "cell_type": "code",
   "execution_count": null,
   "id": "c0d08296",
   "metadata": {},
   "outputs": [],
   "source": [
    " model.eval()\n",
    "    correct = 0\n",
    "    total = 0\n",
    "    all_labels = []\n",
    "    all_predictions = []\n",
    "    with torch.no_grad():\n",
    "        for images, labels in test_loader:\n",
    "            images, labels = images.to(device), labels.to(device)\n",
    "            outputs = model(images)\n",
    "            _, predicted = torch.max(outputs.data, 1)\n",
    "            total += labels.size(0)\n",
    "            correct += (predicted == labels).sum().item()\n",
    "            all_labels.extend(labels.cpu().numpy())\n",
    "            all_predictions.extend(predicted.cpu().numpy())\n",
    "\n",
    "    test_accuracy = 100 * correct / total\n",
    "    print(f'Test Accuracy: {test_accuracy:.2f}%')\n",
    "    test_accuracies.append(test_accuracy)\n"
   ]
  },
  {
   "cell_type": "code",
   "execution_count": null,
   "id": "d494a9d8",
   "metadata": {},
   "outputs": [],
   "source": [
    "cm = confusion_matrix(all_labels, all_predictions)\n",
    "    plt.figure(figsize=(8, 6))\n",
    "    sns.heatmap(cm, annot=True, fmt='d', cmap='Blues', xticklabels=['fake', 'real'], yticklabels=['fake', 'real'])\n",
    "    plt.xlabel('Predicted labels')\n",
    "    plt.ylabel('True labels')\n",
    "    plt.title('Confusion Matrix')\n",
    "    plt.show()\n",
    "\n",
    "    # Classification report\n",
    "    print(\"Classification Report:\")\n",
    "    print(classification_report(all_labels, all_predictions, target_names=['fake', 'real']))"
   ]
  }
 ],
 "metadata": {
  "kernelspec": {
   "display_name": "Python 3 (ipykernel)",
   "language": "python",
   "name": "python3"
  },
  "language_info": {
   "codemirror_mode": {
    "name": "ipython",
    "version": 3
   },
   "file_extension": ".py",
   "mimetype": "text/x-python",
   "name": "python",
   "nbconvert_exporter": "python",
   "pygments_lexer": "ipython3",
   "version": "3.11.5"
  }
 },
 "nbformat": 4,
 "nbformat_minor": 5
}
